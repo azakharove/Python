{
 "cells": [
  {
   "cell_type": "code",
   "execution_count": 18,
   "id": "07c2a0f2",
   "metadata": {},
   "outputs": [],
   "source": [
    "from __future__ import annotations\n",
    "from dataclasses import dataclass\n",
    "from typing import Dict, Union, Optional, Iterable\n",
    "import pandas as pd\n",
    "import numpy as np\n",
    "import matplotlib.pyplot as plt\n",
    "from BenchmarkStrategy import BenchmarkStrategy\n",
    "from MovingAverageStrategy import MovingAverageStrategy\n",
    "from RSIStrategy import RSIStrategy\n",
    "from MACDStrategy import MACDStrategy\n",
    "from VolatilityBreakoutStrategy import VolatilityBreakoutStrategy\n",
    "\n",
    "\n",
    "from pathlib import Path"
   ]
  },
  {
   "cell_type": "markdown",
   "id": "fe03fa83",
   "metadata": {},
   "source": [
    "### Load Results from all strategies"
   ]
  },
  {
   "cell_type": "code",
   "execution_count": null,
   "id": "76615360",
   "metadata": {},
   "outputs": [],
   "source": [
    "def load_strategy_histories(strategies) -> pd.DataFrame:\n",
    "    base_dir = Path.cwd()\n",
    "\n",
    "    perf_dir = base_dir / \"Assignment_2_Results\"\n",
    "    perf_dir.mkdir(parents=True, exist_ok=True)  # ensure folder exists\n",
    "\n",
    "    dfs = []\n",
    "\n",
    "    for s in strategies:\n",
    "        name = s.__class__.__name__\n",
    "        file_path = perf_dir / f\"{name}_performance_history.csv\"\n",
    "\n",
    "        if not file_path.exists():\n",
    "            print(f\"[WARN] File not found for {name}: {file_path}\")\n",
    "            continue\n",
    "\n",
    "        df = pd.read_csv(file_path, parse_dates=[\"Timestamp\"])\n",
    "        df[\"Strategy\"] = name\n",
    "        dfs.append(df)\n",
    "\n",
    "    if not dfs:\n",
    "        raise FileNotFoundError(\"No strategy performance files found in data/prices/\")\n",
    "\n",
    "    df_all = pd.concat(dfs, ignore_index=True)\n",
    "    df_all.sort_values(by=[\"Timestamp\", \"Strategy\"], inplace=True)\n",
    "\n",
    "    return df_all"
   ]
  },
  {
   "cell_type": "code",
   "execution_count": 22,
   "id": "8a80d9a5",
   "metadata": {},
   "outputs": [
    {
     "name": "stdout",
     "output_type": "stream",
     "text": [
      "[WARN] File not found for BenchmarkStrategy: c:\\Users\\anyae\\OneDrive - The University of Chicago\\FINMATH\\Python\\Assignment2\\data\\prices\\BenchmarkStrategy_performance_history.csv\n",
      "[WARN] File not found for MovingAverageStrategy: c:\\Users\\anyae\\OneDrive - The University of Chicago\\FINMATH\\Python\\Assignment2\\data\\prices\\MovingAverageStrategy_performance_history.csv\n",
      "[WARN] File not found for RSIStrategy: c:\\Users\\anyae\\OneDrive - The University of Chicago\\FINMATH\\Python\\Assignment2\\data\\prices\\RSIStrategy_performance_history.csv\n",
      "[WARN] File not found for MACDStrategy: c:\\Users\\anyae\\OneDrive - The University of Chicago\\FINMATH\\Python\\Assignment2\\data\\prices\\MACDStrategy_performance_history.csv\n"
     ]
    },
    {
     "ename": "FileNotFoundError",
     "evalue": "No strategy performance files found in data/prices/",
     "output_type": "error",
     "traceback": [
      "\u001b[31m---------------------------------------------------------------------------\u001b[39m",
      "\u001b[31mFileNotFoundError\u001b[39m                         Traceback (most recent call last)",
      "\u001b[36mCell\u001b[39m\u001b[36m \u001b[39m\u001b[32mIn[22]\u001b[39m\u001b[32m, line 8\u001b[39m\n\u001b[32m      1\u001b[39m strategies = [BenchmarkStrategy(),\n\u001b[32m      2\u001b[39m                  MovingAverageStrategy(), \n\u001b[32m      3\u001b[39m                  RSIStrategy(),\n\u001b[32m      4\u001b[39m                  MACDStrategy() , \n\u001b[32m      5\u001b[39m \u001b[38;5;66;03m#                  VolatilityBreakoutStrategy()\u001b[39;00m\n\u001b[32m      6\u001b[39m                     ]\n\u001b[32m----> \u001b[39m\u001b[32m8\u001b[39m df_histories = \u001b[43mload_strategy_histories\u001b[49m\u001b[43m(\u001b[49m\u001b[43mstrategies\u001b[49m\u001b[43m)\u001b[49m\n\u001b[32m     10\u001b[39m df_histories.head(\u001b[32m5\u001b[39m)\n",
      "\u001b[36mCell\u001b[39m\u001b[36m \u001b[39m\u001b[32mIn[21]\u001b[39m\u001b[32m, line 22\u001b[39m, in \u001b[36mload_strategy_histories\u001b[39m\u001b[34m(strategies)\u001b[39m\n\u001b[32m     19\u001b[39m     dfs.append(df)\n\u001b[32m     21\u001b[39m \u001b[38;5;28;01mif\u001b[39;00m \u001b[38;5;129;01mnot\u001b[39;00m dfs:\n\u001b[32m---> \u001b[39m\u001b[32m22\u001b[39m     \u001b[38;5;28;01mraise\u001b[39;00m \u001b[38;5;167;01mFileNotFoundError\u001b[39;00m(\u001b[33m\"\u001b[39m\u001b[33mNo strategy performance files found in data/prices/\u001b[39m\u001b[33m\"\u001b[39m)\n\u001b[32m     24\u001b[39m df_all = pd.concat(dfs, ignore_index=\u001b[38;5;28;01mTrue\u001b[39;00m)\n\u001b[32m     25\u001b[39m df_all.sort_values(by=[\u001b[33m\"\u001b[39m\u001b[33mTimestamp\u001b[39m\u001b[33m\"\u001b[39m, \u001b[33m\"\u001b[39m\u001b[33mStrategy\u001b[39m\u001b[33m\"\u001b[39m], inplace=\u001b[38;5;28;01mTrue\u001b[39;00m)\n",
      "\u001b[31mFileNotFoundError\u001b[39m: No strategy performance files found in data/prices/"
     ]
    }
   ],
   "source": [
    "strategies = [BenchmarkStrategy(),\n",
    "                 MovingAverageStrategy(), \n",
    "                 RSIStrategy(),\n",
    "                 MACDStrategy() , \n",
    "#                  VolatilityBreakoutStrategy()\n",
    "                    ]\n",
    "\n",
    "df_histories = load_strategy_histories(strategies)\n",
    "\n",
    "df_histories.head(5)\n"
   ]
  },
  {
   "cell_type": "markdown",
   "id": "1bcb3352",
   "metadata": {},
   "source": [
    "## Plot 1: Signal Overlay on Price Chart"
   ]
  },
  {
   "cell_type": "markdown",
   "id": "bd0def75",
   "metadata": {},
   "source": [
    "## Plot 2: Holdings, Cash and Total Assets Over Time"
   ]
  },
  {
   "cell_type": "markdown",
   "id": "1a1e49d6",
   "metadata": {},
   "source": [
    "## Plot 3: Compare Cumulative PnL Across Strategies"
   ]
  },
  {
   "cell_type": "markdown",
   "id": "620a64e5",
   "metadata": {},
   "source": [
    "## Reflection on Signal Behavior, Execution Constraints, and Performance"
   ]
  }
 ],
 "metadata": {
  "kernelspec": {
   "display_name": "Python 3",
   "language": "python",
   "name": "python3"
  },
  "language_info": {
   "codemirror_mode": {
    "name": "ipython",
    "version": 3
   },
   "file_extension": ".py",
   "mimetype": "text/x-python",
   "name": "python",
   "nbconvert_exporter": "python",
   "pygments_lexer": "ipython3",
   "version": "3.11.9"
  }
 },
 "nbformat": 4,
 "nbformat_minor": 5
}
